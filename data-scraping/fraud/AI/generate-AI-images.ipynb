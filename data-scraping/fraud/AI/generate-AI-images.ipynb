{
 "cells": [
  {
   "cell_type": "markdown",
   "metadata": {},
   "source": [
    "### Generate AI images in AI Image generator"
   ]
  },
  {
   "cell_type": "markdown",
   "metadata": {},
   "source": [
    "1. Use Gemini to create a dataset for each property type in a CSV format. Each property type must have an ID, Image Title, Image Description, Propery Type, Architectural Style, Property Category and Feature Name. The entire dataset must have a total of 2000 real estate AI images divided into 1000 training images and 1000 evaluation images.\n"
   ]
  },
  {
   "cell_type": "markdown",
   "metadata": {},
   "source": [
    "- PROMPT: \n",
    "    - Click here to view Gemini Conversation Link: https://g.co/gemini/share/ffaa7b759382\n",
    "    - In a table, generate a condominium dataset for me that has the rows ID, image title, image description, property type, architectural style, property category and feature name.  Start from b1. Randomly select from the following architectural style, property category and interior/exterior features:\n",
    "        - Property Type (11)\n",
    "            - Condominium\n",
    "            - House and Lot\n",
    "            - Townhouse\n",
    "            - Apartment\n",
    "            - Bungalow\n",
    "            - Villa\n",
    "            - Office Space\n",
    "            - Industrial Space\n",
    "            - Commercial Lot\n",
    "            - Land\n",
    "            - Farm\n",
    "            - Hotel\n",
    "        - Architectural Styles (10)\n",
    "            - Colonial\n",
    "            - Victorian\n",
    "            - Tudor\n",
    "            - Ranch\n",
    "            - Cape Cod\n",
    "            - Mediterranean\n",
    "            - Modern\n",
    "            - Contemporary\n",
    "            - Industrial\n",
    "            - Rustic\n",
    "\n",
    "            Property Category (2)\n",
    "            - Interior\n",
    "            - Exterior\n",
    "\n",
    "            Interior Features (13)\n",
    "            - Living Room\n",
    "            - Dining Room\n",
    "            - Kitchen\n",
    "            - Bedrooms\n",
    "            - Bathrooms\n",
    "            - Hallways\n",
    "            - Stairs\n",
    "            - Basement\n",
    "            - Attic\n",
    "            - Closet\n",
    "            - Pantry\n",
    "            - Laundry Room\n",
    "            - Family Room\n",
    "            - Office\n",
    "\n",
    "            Exterior Features (14)\n",
    "            - Lot\n",
    "            - Facade\n",
    "            - Roof\n",
    "            - Windows\n",
    "            - Doors\n",
    "            - Porch\n",
    "            - Patio\n",
    "            - Deck\n",
    "            - Balcony\n",
    "            - Garage\n",
    "            - Driveway\n",
    "            - Landscaping\n",
    "            - Fence\n",
    "    \n",
    "\n",
    "        Example:\n",
    "\n",
    "        | ID | Image Title | Image Description | Property Type | Architectural Style | Property Category | Feature Name |\n",
    "        |---|---|---|---|---|---|---|\n",
    "        | b1001 | Modern Condominium Living Room | A modern condominium interior featuring an open-plan living room with minimalist furniture, large windows, and sleek design. | Condominium | Modern | Interior | Living Room |\n",
    "        | b1002 | Contemporary Condominium Kitchen | A contemporary condominium kitchen with modern appliances, white cabinetry, and a center island. | Condominium | Contemporary | Interior | Kitchen |\n",
    "        | b1003 | Modern Condominium Exterior Balcony | A modern condominium with a spacious balcony featuring glass railings and a view of the city skyline. | Condominium | Modern | Exterior | Balcony |\n",
    "\n"
   ]
  },
  {
   "cell_type": "markdown",
   "metadata": {},
   "source": [
    "2. Copy & paste the image description as prompts in [Perchance]((https://perchance.org/ai-character-generator)) or [Bing Image Creator](https://www.bing.com/images/create?FORM=GENILP) to generate AI images. Then, download the 1st image."
   ]
  },
  {
   "cell_type": "code",
   "execution_count": null,
   "metadata": {},
   "outputs": [],
   "source": [
    "from selenium import webdriver\n",
    "from selenium.webdriver.common.by import By\n",
    "from selenium.webdriver.common.keys import Keys \n",
    "from time import sleep\n",
    "import pyautogui"
   ]
  },
  {
   "cell_type": "code",
   "execution_count": 259,
   "metadata": {},
   "outputs": [],
   "source": [
    "# Replace with your Google Sheet URL, Perchance URL, and cell range\n",
    "google_sheet_url = \"https://docs.google.com/spreadsheets/d/118Q1RhauAuuRa7KWZS4RIXE17WHqxNTh65TYqSPrBo8/edit?gid=0#gid=0\"\n",
    "perchance_url = \"https://perchance.org/ai-character-generator\"\n",
    "cell_range = \"A2:A10\"  # Adjust the range as needed\n",
    "# Initialize WebDriver (adjust for your browser)\n",
    "driver = webdriver.Chrome()"
   ]
  },
  {
   "cell_type": "code",
   "execution_count": 260,
   "metadata": {},
   "outputs": [],
   "source": [
    "# Open Google Sheet\n",
    "driver.get(google_sheet_url)"
   ]
  },
  {
   "cell_type": "code",
   "execution_count": 261,
   "metadata": {},
   "outputs": [],
   "source": [
    "# Get current window handle\n",
    "current_window_handle = driver.current_window_handle"
   ]
  },
  {
   "cell_type": "code",
   "execution_count": 262,
   "metadata": {},
   "outputs": [],
   "source": [
    "# Copy the content in cell\n",
    "driver.find_element(By.TAG_NAME, \"body\").send_keys(Keys.CONTROL + \"c\")"
   ]
  },
  {
   "cell_type": "code",
   "execution_count": 263,
   "metadata": {},
   "outputs": [],
   "source": [
    "# Open Perchance in new tab and switch to it\n",
    "driver.execute_script(\"window.open('https://perchance.org/ai-character-generator');\")\n",
    "window_handles = driver.window_handles\n",
    "driver.switch_to.window(window_handles[-1])"
   ]
  },
  {
   "cell_type": "code",
   "execution_count": 279,
   "metadata": {},
   "outputs": [],
   "source": [
    "# Copy the content in cell\n",
    "body = driver.find_element(By.TAG_NAME, \"body\")\n",
    "body.send_keys(Keys.TAB)\n",
    "# body.send_keys(Keys.TAB)\n",
    "# Paste the copied content\n",
    "sleep(1)\n",
    "body.send_keys(Keys.CONTROL + \"v\")\n",
    "# # Press enter to generate AI image\n",
    "body.send_keys(Keys.ENTER)\n"
   ]
  },
  {
   "cell_type": "code",
   "execution_count": null,
   "metadata": {},
   "outputs": [],
   "source": [
    "# Move the mouse to the desired position (adjust coordinates as needed)\n",
    "pyautogui.moveTo(200, 600)\n",
    "\n",
    "# Simulate a right-click\n",
    "pyautogui.rightClick()\n",
    "\n",
    "# Move the mouse to the desired position (adjust coordinates as needed)\n",
    "pyautogui.moveTo(210, 655)\n",
    "\n",
    "# Simulate a right-click\n",
    "pyautogui.rightClick()\n",
    "\n",
    "# Type \"b1\" and press Enter\n",
    "pyautogui.write(\"bb1\", interval=1)\n",
    "pyautogui.press('enter')\n"
   ]
  },
  {
   "cell_type": "code",
   "execution_count": 221,
   "metadata": {},
   "outputs": [],
   "source": [
    "# Switch back to Google Sheet tab\n",
    "driver.switch_to.window(current_window_handle)"
   ]
  },
  {
   "cell_type": "code",
   "execution_count": null,
   "metadata": {},
   "outputs": [],
   "source": [
    "# Open Google Sheet\n",
    "driver.get(google_sheet_url)\n",
    "\n",
    "# Authenticate to your Google account if needed\n",
    "\n",
    "# Wait for the sheet to load\n",
    "sleep(5)\n",
    "\n",
    "# Get current window handle\n",
    "current_window_handle = driver.current_window_handle\n",
    "\n",
    "# Loop through cells\n",
    "for cell in cell_range:\n",
    "    # Locate the cell element (adjust selector as needed)\n",
    "    # cell_element = driver.find_element(By.XPATH, f\"//td[text()='{cell}']\")\n",
    "\n",
    "    # Double-click to select content\n",
    "    # driver.execute_script(\"arguments[0].click();\", cell_element)\n",
    "\n",
    "    # Go to next cell\n",
    "    driver.send_keys(Keys.ARROW_DOWN)\n",
    "\n",
    "    # Copy the content in cell\n",
    "    driver.send_keys(Keys.CONTROL + \"c\")\n",
    "    \n",
    "\n",
    "    # Open Perchance in new tab and switch to it\n",
    "    driver.execute_script(\"window.open('https://perchance.org/ai-character-generator');\")\n",
    "    window_handles = driver.window_handles\n",
    "    driver.switch_to.window(window_handles[-1])\n",
    "\n",
    "    # Click tab twice to locate the extarea element\n",
    "    body = driver.find_element(By.TAG_NAME, \"body\")\n",
    "    body.send_keys(Keys.TAB)\n",
    "    body.send_keys(Keys.TAB)\n",
    "\n",
    "    # Paste the copied content\n",
    "    body.send_keys(Keys.CONTROL + \"v\")\n",
    "\n",
    "    # Press enter to generate AI image\n",
    "    body.send_keys(Keys.ENTER)\n",
    "\n",
    "    # Wait for image generation to complete\n",
    "    sleep(5)  # Adjust the wait time as needed\n",
    "\n",
    "    # Switch back to Google Sheet tab\n",
    "    driver.switch_to.window(current_window_handle)\n",
    "\n",
    "# Close the browser\n",
    "driver.quit()"
   ]
  },
  {
   "cell_type": "markdown",
   "metadata": {},
   "source": [
    "3. Save the images then organize it into folders categoriezed by their property type.\n",
    "\n",
    "    Filename:\n",
    "    ID_number.jpg (e.g. b1001)\n",
    "\n",
    "    Folders:\n",
    "\n",
    "    1. Condominum\n",
    "    2. House and Lot\n",
    "    3. Bungalow\n",
    "    4. Townhouse\n",
    "    5. Apartment\n",
    "    6. Villa\n",
    "    7. Office Space\n",
    "    8. Hotel\n",
    "    9. Farm\n",
    "    10. Commercial Lot\n",
    "    11. Lang"
   ]
  }
 ],
 "metadata": {
  "kernelspec": {
   "display_name": "venv2",
   "language": "python",
   "name": "python3"
  },
  "language_info": {
   "codemirror_mode": {
    "name": "ipython",
    "version": 3
   },
   "file_extension": ".py",
   "mimetype": "text/x-python",
   "name": "python",
   "nbconvert_exporter": "python",
   "pygments_lexer": "ipython3",
   "version": "3.11.4"
  }
 },
 "nbformat": 4,
 "nbformat_minor": 2
}
