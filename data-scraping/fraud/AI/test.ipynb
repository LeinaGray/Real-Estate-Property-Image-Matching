{
 "cells": [
  {
   "cell_type": "code",
   "execution_count": 2,
   "metadata": {},
   "outputs": [],
   "source": [
    "from selenium import webdriver\n",
    "from selenium.webdriver.common.by import By\n",
    "from selenium.webdriver.common.keys import Keys \n",
    "from time import sleep\n",
    "import pyautogui"
   ]
  },
  {
   "cell_type": "code",
   "execution_count": null,
   "metadata": {},
   "outputs": [
    {
     "name": "stdout",
     "output_type": "stream",
     "text": [
      "copied\n"
     ]
    }
   ],
   "source": [
    "# Replace with your Google Sheet URL, Perchance URL, and cell range\n",
    "google_sheet_url = \"https://docs.google.com/spreadsheets/d/118Q1RhauAuuRa7KWZS4RIXE17WHqxNTh65TYqSPrBo8/edit?gid=0#gid=0\"\n",
    "perchance_url = \"https://perchance.org/ai-character-generator\"\n",
    "cell_range = \"A2:A10\"  # Adjust the range as needed\n",
    "# Initialize WebDriver (adjust for your browser)\n",
    "driver = webdriver.Chrome()\n",
    "# Open Google Sheet\n",
    "driver.get(google_sheet_url)\n",
    "# Get current window handle\n",
    "current_window_handle = driver.current_window_handle\n",
    "# Copy the content in cell\n",
    "driver.find_element(By.TAG_NAME, \"body\").send_keys(Keys.CONTROL + \"c\")\n",
    "print(\"copied\")\n",
    "# Open Perchance in new tab and switch to it\n",
    "driver.execute_script(\"window.open('https://perchance.org/ai-character-generator');\")\n",
    "window_handles = driver.window_handles\n",
    "driver.switch_to.window(window_handles[-1])\n",
    "\n",
    "# Move the mouse to the desired position (adjust coordinates as needed)\n",
    "sleep(1)\n",
    "pyautogui.moveTo(500, 250)\n",
    "# Simulate a right-click\n",
    "pyautogui.rightClick()\n",
    "\n",
    "# Copy the content in cell\n",
    "# body = driver.find_element(By.TAG_NAME, \"body\")\n",
    "# body.send_keys(Keys.TAB)\n",
    "# body.send_keys(Keys.TAB)\n",
    "# Paste the copied content\n",
    "# sleep(5)\n",
    "# Simulate Ctrl+V to paste\n",
    "# pyautogui.hotkey('ctrl', 'v')\n",
    "# body.send_keys(Keys.CONTROL + \"v\")\n"
   ]
  },
  {
   "cell_type": "code",
   "execution_count": 39,
   "metadata": {},
   "outputs": [],
   "source": [
    "pyautogui.press('tab')"
   ]
  },
  {
   "cell_type": "code",
   "execution_count": 22,
   "metadata": {},
   "outputs": [
    {
     "name": "stdout",
     "output_type": "stream",
     "text": [
      "pasted\n"
     ]
    }
   ],
   "source": [
    "# Copy the content in cell\n",
    "body = driver.find_element(By.TAG_NAME, \"body\")\n",
    "body.send_keys(Keys.TAB)\n",
    "body.send_keys(Keys.TAB)\n",
    "# Paste the copied content\n",
    "sleep(5)\n",
    "# Simulate Ctrl+V to paste\n",
    "# pyautogui.hotkey('ctrl', 'v')\n",
    "body.send_keys(Keys.CONTROL + \"v\")\n",
    "print(\"pasted\")\n",
    "# # # Press enter to generate AI image\n",
    "# body.send_keys(Keys.ENTER)"
   ]
  }
 ],
 "metadata": {
  "kernelspec": {
   "display_name": "venv2",
   "language": "python",
   "name": "python3"
  },
  "language_info": {
   "codemirror_mode": {
    "name": "ipython",
    "version": 3
   },
   "file_extension": ".py",
   "mimetype": "text/x-python",
   "name": "python",
   "nbconvert_exporter": "python",
   "pygments_lexer": "ipython3",
   "version": "3.11.4"
  }
 },
 "nbformat": 4,
 "nbformat_minor": 2
}
