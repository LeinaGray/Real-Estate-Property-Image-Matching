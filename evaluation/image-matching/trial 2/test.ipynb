{
 "cells": [
  {
   "cell_type": "code",
   "execution_count": 2,
   "metadata": {},
   "outputs": [
    {
     "ename": "ModuleNotFoundError",
     "evalue": "No module named 'numpy'",
     "output_type": "error",
     "traceback": [
      "\u001b[1;31m---------------------------------------------------------------------------\u001b[0m",
      "\u001b[1;31mModuleNotFoundError\u001b[0m                       Traceback (most recent call last)",
      "Cell \u001b[1;32mIn[2], line 5\u001b[0m\n\u001b[0;32m      3\u001b[0m \u001b[38;5;28;01mfrom\u001b[39;00m \u001b[38;5;21;01mPIL\u001b[39;00m \u001b[38;5;28;01mimport\u001b[39;00m Image\n\u001b[0;32m      4\u001b[0m \u001b[38;5;28;01mimport\u001b[39;00m \u001b[38;5;21;01mtorch\u001b[39;00m\n\u001b[1;32m----> 5\u001b[0m \u001b[38;5;28;01mfrom\u001b[39;00m \u001b[38;5;21;01mmodel\u001b[39;00m \u001b[38;5;28;01mimport\u001b[39;00m load_models, extract_features, find_most_similar_image, load_dataset_features\n\u001b[0;32m      7\u001b[0m \u001b[38;5;66;03m# Folder paths for images and features\u001b[39;00m\n\u001b[0;32m      8\u001b[0m IMAGE_FOLDER \u001b[38;5;241m=\u001b[39m \u001b[38;5;124mr\u001b[39m\u001b[38;5;124m\"\u001b[39m\u001b[38;5;124mdataset/image_matching/training_dataset\u001b[39m\u001b[38;5;124m\"\u001b[39m\n",
      "File \u001b[1;32mc:\\Users\\lenovo\\OneDrive\\Documents\\PROJECTS\\ALT\\Real-Estate-Property-Image-Matching\\evaluation\\image-matching\\trial 2\\model.py:7\u001b[0m\n\u001b[0;32m      5\u001b[0m \u001b[38;5;28;01mimport\u001b[39;00m \u001b[38;5;21;01mos\u001b[39;00m\n\u001b[0;32m      6\u001b[0m \u001b[38;5;28;01mimport\u001b[39;00m \u001b[38;5;21;01mpickle\u001b[39;00m\n\u001b[1;32m----> 7\u001b[0m \u001b[38;5;28;01mimport\u001b[39;00m \u001b[38;5;21;01mnumpy\u001b[39;00m \u001b[38;5;28;01mas\u001b[39;00m \u001b[38;5;21;01mnp\u001b[39;00m\n\u001b[0;32m      8\u001b[0m \u001b[38;5;28;01mfrom\u001b[39;00m \u001b[38;5;21;01mtorchvision\u001b[39;00m \u001b[38;5;28;01mimport\u001b[39;00m transforms, models\n\u001b[0;32m      9\u001b[0m \u001b[38;5;28;01mfrom\u001b[39;00m \u001b[38;5;21;01mtransformers\u001b[39;00m \u001b[38;5;28;01mimport\u001b[39;00m DeiTForImageClassification, CLIPModel, CLIPProcessor\n",
      "\u001b[1;31mModuleNotFoundError\u001b[0m: No module named 'numpy'"
     ]
    }
   ],
   "source": [
    "import os\n",
    "import csv\n",
    "from PIL import Image\n",
    "import torch\n",
    "from model import load_models, extract_features, find_most_similar_image, load_dataset_features\n",
    "\n",
    "# Folder paths for images and features\n",
    "IMAGE_FOLDER = r\"dataset/image_matching/training_dataset\"\n",
    "SIMCLR_FEATURES_FILE = r'image-matching\\features\\simclr features.pkl'\n",
    "DEIT_FEATURES_FILE = r'image-matching\\features\\deit features.pkl'\n",
    "CLIP_FEATURES_FILE = r'image-matching\\features\\clip features.pkl'\n",
    "CNN_FEATURES_FILE = 'image-matching\\features\\cnn features.pkl'\n",
    "\n",
    "# Load models\n",
    "simclr_model, deit_model, clip_model, base_cnn_model = load_models()\n",
    "\n",
    "# Function to perform search and save results to a CSV\n",
    "def search_and_save_results(query_image_path, model_choice, output_csv):\n",
    "    # Load the query image\n",
    "    query_image = Image.open(query_image_path).convert(\"RGB\")\n",
    "\n",
    "    # Select the appropriate model and features\n",
    "    if model_choice == 'simclr':\n",
    "        uploaded_features = extract_features(simclr_model, query_image, 'simclr')\n",
    "        dataset_features = load_dataset_features(IMAGE_FOLDER, simclr_model, 'simclr', SIMCLR_FEATURES_FILE)\n",
    "    elif model_choice == 'deit':\n",
    "        uploaded_features = extract_features(deit_model, query_image, 'deit')\n",
    "        dataset_features = load_dataset_features(IMAGE_FOLDER, deit_model, 'deit', DEIT_FEATURES_FILE)\n",
    "    elif model_choice == 'clip':\n",
    "        uploaded_features = extract_features(clip_model, query_image, 'clip')\n",
    "        dataset_features = load_dataset_features(IMAGE_FOLDER, clip_model, 'clip', CLIP_FEATURES_FILE)\n",
    "    elif model_choice == 'base_cnn':\n",
    "        uploaded_features = extract_features(base_cnn_model, query_image, 'base_cnn')\n",
    "        dataset_features = load_dataset_features(IMAGE_FOLDER, base_cnn_model, 'base_cnn', CNN_FEATURES_FILE)\n",
    "    else:\n",
    "        raise ValueError(\"Invalid model choice. Choose from 'simclr', 'deit', 'clip', 'base_cnn'.\")\n",
    "\n",
    "    # Find the most similar images\n",
    "    most_similar_images = find_most_similar_image(uploaded_features, dataset_features)[:5]\n",
    "\n",
    "    # Extract image paths and similarity scores\n",
    "    similar_image_paths = [img[0] for img in most_similar_images]\n",
    "    similarity_scores = [f\"{img[1]:.4f}\" for img in most_similar_images]\n",
    "\n",
    "    # Write results to CSV\n",
    "    with open(output_csv, mode='w', newline='') as file:\n",
    "        writer = csv.writer(file)\n",
    "        writer.writerow([\"query_image\", \"similar_images\", \"similarity_scores\"])\n",
    "        writer.writerow([\n",
    "            query_image_path,\n",
    "            \", \".join(similar_image_paths),\n",
    "            \", \".join(similarity_scores)\n",
    "        ])\n",
    "\n",
    "    print(f\"Results saved to {output_csv}\")\n",
    "\n",
    "# Example Usage\n",
    "if __name__ == \"__main__\":\n",
    "    query_image_path = \"evaluation\\image-matching\\query\\listing_1_image_1.png_20240927_122438.png\"  # Replace with the actual query image path\n",
    "    model_choice = \"clip\"  # Choose from 'simclr', 'deit', 'clip', 'base_cnn'\n",
    "    output_csv = \"output_results.csv\"  # Output CSV file\n",
    "    search_and_save_results(query_image_path, model_choice, output_csv)\n"
   ]
  }
 ],
 "metadata": {
  "kernelspec": {
   "display_name": "myenv",
   "language": "python",
   "name": "python3"
  },
  "language_info": {
   "codemirror_mode": {
    "name": "ipython",
    "version": 3
   },
   "file_extension": ".py",
   "mimetype": "text/x-python",
   "name": "python",
   "nbconvert_exporter": "python",
   "pygments_lexer": "ipython3",
   "version": "3.11.4"
  }
 },
 "nbformat": 4,
 "nbformat_minor": 2
}
